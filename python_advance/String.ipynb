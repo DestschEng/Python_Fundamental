{
 "cells": [
  {
   "cell_type": "code",
   "execution_count": 2,
   "id": "3ee5985f-7509-49d5-8cdc-7bf08f4fe2fc",
   "metadata": {},
   "outputs": [
    {
     "data": {
      "text/plain": [
       "['..\\\\dask_.ipynb',\n",
       " '..\\\\data_cleaning.ipynb',\n",
       " '..\\\\fundamental_numpy.ipynb',\n",
       " '..\\\\fundamental_pandas.ipynb',\n",
       " '..\\\\polars.ipynb',\n",
       " '..\\\\Taisachtrendlib_PTIT.ipynb',\n",
       " '..\\\\dask_project\\\\dask_ml.ipynb',\n",
       " '..\\\\python_advanced\\\\String.ipynb']"
      ]
     },
     "execution_count": 2,
     "metadata": {},
     "output_type": "execute_result"
    }
   ],
   "source": [
    "import glob\n",
    "glob.glob(\"../**/*.ipynb\", recursive=True)"
   ]
  },
  {
   "cell_type": "code",
   "execution_count": 4,
   "id": "566f4cf1-fea7-4914-a21b-486ee27ec13a",
   "metadata": {},
   "outputs": [
    {
     "name": "stdout",
     "output_type": "stream",
     "text": [
      "..\\fundamental_numpy.ipynb\n",
      "..\\fundamental_pandas.ipynb\n"
     ]
    }
   ],
   "source": [
    "f = glob.glob(\"../**/**funda*\", recursive=True)\n",
    "for _ in f:\n",
    "    print(_)"
   ]
  },
  {
   "cell_type": "code",
   "execution_count": 6,
   "id": "57454199-2dd3-4caa-b7f6-83d512bc8c89",
   "metadata": {},
   "outputs": [
    {
     "data": {
      "text/plain": [
       "<re.Match object; span=(0, 17), match='The rain in Spain'>"
      ]
     },
     "execution_count": 6,
     "metadata": {},
     "output_type": "execute_result"
    }
   ],
   "source": [
    "import re\n",
    "\n",
    "txt = \"The rain in Spain\"\n",
    "x = re.search(\"^The.*Spain$\", txt)\n",
    "x"
   ]
  },
  {
   "cell_type": "code",
   "execution_count": 7,
   "id": "b53b6a10-0595-4109-afca-9128cc270ccc",
   "metadata": {},
   "outputs": [
    {
     "name": "stdout",
     "output_type": "stream",
     "text": [
      "1991-02-20 00:00:00\n",
      "Python first appeared on February 20 in the year 1991.\n",
      "Python is 33 years old.\n"
     ]
    }
   ],
   "source": [
    "import datetime\n",
    "python_birthday = datetime.datetime(year=1991, month=2, day=20)\n",
    "print(python_birthday)\n",
    "\n",
    "print(\n",
    "    f\"Python first appeared on {python_birthday:%B %d} in the year {python_birthday:%Y}.\"\n",
    ")\n",
    "\n",
    "now = datetime.datetime.now()\n",
    "print(f\"Python is {now.year - python_birthday.year} years old.\")"
   ]
  },
  {
   "cell_type": "code",
   "execution_count": null,
   "id": "d56994a7-f647-4355-acec-5cd3db3faac1",
   "metadata": {},
   "outputs": [],
   "source": []
  }
 ],
 "metadata": {
  "kernelspec": {
   "display_name": "Python 3 (ipykernel)",
   "language": "python",
   "name": "python3"
  },
  "language_info": {
   "codemirror_mode": {
    "name": "ipython",
    "version": 3
   },
   "file_extension": ".py",
   "mimetype": "text/x-python",
   "name": "python",
   "nbconvert_exporter": "python",
   "pygments_lexer": "ipython3",
   "version": "3.12.2"
  }
 },
 "nbformat": 4,
 "nbformat_minor": 5
}
