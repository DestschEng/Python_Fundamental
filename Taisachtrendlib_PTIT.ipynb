{
 "cells": [
  {
   "cell_type": "code",
   "execution_count": 3,
   "id": "8eff3498-4c83-4120-b2d2-2a9a400ffbc4",
   "metadata": {},
   "outputs": [
    {
     "name": "stdout",
     "output_type": "stream",
     "text": [
      "Requirement already satisfied: Pillow in c:\\users\\admin\\onedrive\\desktop\\datascience\\.venv\\lib\\site-packages (10.4.0)\n",
      "Requirement already satisfied: reportlab in c:\\users\\admin\\onedrive\\desktop\\datascience\\.venv\\lib\\site-packages (4.2.2)\n",
      "Requirement already satisfied: tqdm in c:\\users\\admin\\onedrive\\desktop\\datascience\\.venv\\lib\\site-packages (4.66.5)\n",
      "Requirement already satisfied: chardet in c:\\users\\admin\\onedrive\\desktop\\datascience\\.venv\\lib\\site-packages (from reportlab) (5.2.0)\n",
      "Requirement already satisfied: colorama in c:\\users\\admin\\onedrive\\desktop\\datascience\\.venv\\lib\\site-packages (from tqdm) (0.4.6)\n"
     ]
    },
    {
     "name": "stderr",
     "output_type": "stream",
     "text": [
      "\n",
      "[notice] A new release of pip is available: 24.0 -> 24.2\n",
      "[notice] To update, run: python.exe -m pip install --upgrade pip\n"
     ]
    }
   ],
   "source": [
    "!pip install Pillow reportlab tqdm"
   ]
  },
  {
   "cell_type": "code",
   "execution_count": 1,
   "id": "3cfb79d6-bffc-4125-b376-a0d57400f28c",
   "metadata": {},
   "outputs": [
    {
     "name": "stdout",
     "output_type": "stream",
     "text": [
      "Bắt đầu tải xuống 114 ảnh...\n"
     ]
    },
    {
     "name": "stderr",
     "output_type": "stream",
     "text": [
      "100%|█████████████████████████████████████████████████████████████████████████████████████████████████████████████████████| 114/114 [00:46<00:00,  2.43it/s]"
     ]
    },
    {
     "name": "stdout",
     "output_type": "stream",
     "text": [
      "Đã tải xuống thành công 114 ảnh.\n",
      "Thất bại: 0 ảnh.\n",
      "Ảnh đã được lưu trong thư mục: downloaded_images\n"
     ]
    },
    {
     "name": "stderr",
     "output_type": "stream",
     "text": [
      "\n"
     ]
    }
   ],
   "source": [
    "import requests\n",
    "import os\n",
    "from concurrent.futures import ThreadPoolExecutor\n",
    "from tqdm import tqdm\n",
    "\n",
    "# URL cơ sở\n",
    "base_url = \"http://dlib.ptit.edu.vn/flowpaper/services/view.php?doc=81108511478093615990372473954145540650&format=jpg&subfolder=81/10/85/\"\n",
    "\n",
    "# Thư mục để lưu ảnh\n",
    "output_dir = \"downloaded_images\"\n",
    "os.makedirs(output_dir, exist_ok=True)\n",
    "\n",
    "# Hàm tải xuống một ảnh\n",
    "def download_image(page):\n",
    "    url = f\"{base_url}&page={page}\"\n",
    "    response = requests.get(url)\n",
    "    if response.status_code == 200:\n",
    "        with open(f\"{output_dir}/page_{page}.jpg\", \"wb\") as f:\n",
    "            f.write(response.content)\n",
    "        return True\n",
    "    return False\n",
    "\n",
    "# Tải xuống ảnh sử dụng đa luồng\n",
    "def download_images(start_page, end_page):\n",
    "    with ThreadPoolExecutor(max_workers=10) as executor:\n",
    "        results = list(tqdm(executor.map(download_image, range(start_page, end_page + 1)), total=end_page - start_page + 1))\n",
    "    return results\n",
    "\n",
    "# Chạy script\n",
    "start_page = 1\n",
    "end_page = 114\n",
    "\n",
    "print(f\"Bắt đầu tải xuống {end_page - start_page + 1} ảnh...\")\n",
    "results = download_images(start_page, end_page)\n",
    "\n",
    "success_count = sum(results)\n",
    "print(f\"Đã tải xuống thành công {success_count} ảnh.\")\n",
    "print(f\"Thất bại: {len(results) - success_count} ảnh.\")\n",
    "print(f\"Ảnh đã được lưu trong thư mục: {output_dir}\")"
   ]
  },
  {
   "cell_type": "code",
   "execution_count": 2,
   "id": "9c79d8b6-9aa7-4086-8ec0-860178f13185",
   "metadata": {},
   "outputs": [
    {
     "name": "stdout",
     "output_type": "stream",
     "text": [
      "Bắt đầu ghép 114 ảnh thành PDF...\n"
     ]
    },
    {
     "name": "stderr",
     "output_type": "stream",
     "text": [
      "Merging images: 100%|█████████████████████████████████████████████████████████████████████████████████████████████████████| 114/114 [01:28<00:00,  1.29it/s]\n"
     ]
    },
    {
     "name": "stdout",
     "output_type": "stream",
     "text": [
      "Đã hoàn thành! File PDF được lưu tại: merged_document.pdf\n"
     ]
    }
   ],
   "source": [
    "import os\n",
    "from PIL import Image\n",
    "from reportlab.pdfgen import canvas\n",
    "from reportlab.lib.units import inch\n",
    "from reportlab.lib.utils import ImageReader\n",
    "from tqdm import tqdm\n",
    "\n",
    "def merge_images_to_pdf(input_dir, output_pdf):\n",
    "    # Lấy danh sách tất cả các file jpg trong thư mục\n",
    "    image_files = sorted([f for f in os.listdir(input_dir) if f.endswith('.jpg')],\n",
    "                         key=lambda x: int(x.split('_')[1].split('.')[0]))\n",
    "\n",
    "    # Tạo một canvas PDF\n",
    "    c = canvas.Canvas(output_pdf)\n",
    "\n",
    "    # Lặp qua từng file ảnh\n",
    "    for image_file in tqdm(image_files, desc=\"Merging images\"):\n",
    "        img_path = os.path.join(input_dir, image_file)\n",
    "        img = Image.open(img_path)\n",
    "        # Lấy kích thước ảnh\n",
    "        width, height = img.size\n",
    "        # Chuyển đổi pixel sang inch (72 pixels = 1 inch trong PDF)\n",
    "        width_inch = width / 72\n",
    "        height_inch = height / 72\n",
    "        # Đặt kích thước trang PDF bằng với kích thước ảnh\n",
    "        c.setPageSize((width_inch * inch, height_inch * inch))\n",
    "        # Vẽ ảnh lên trang\n",
    "        c.drawImage(ImageReader(img), 0, 0, width=width_inch * inch, height=height_inch * inch)\n",
    "        # Chuyển sang trang mới\n",
    "        c.showPage()\n",
    "    # Lưu PDF\n",
    "    c.save()\n",
    "\n",
    "# Thư mục chứa ảnh đã tải về\n",
    "input_dir = \"downloaded_images\"\n",
    "\n",
    "# Tên file PDF đầu ra\n",
    "output_pdf = \"merged_document.pdf\"\n",
    "\n",
    "print(f\"Bắt đầu ghép {len(os.listdir(input_dir))} ảnh thành PDF...\")\n",
    "merge_images_to_pdf(input_dir, output_pdf)\n",
    "print(f\"Đã hoàn thành! File PDF được lưu tại: {output_pdf}\")"
   ]
  },
  {
   "cell_type": "code",
   "execution_count": null,
   "id": "e196188f-9f15-4302-89dc-9acedde1ed43",
   "metadata": {},
   "outputs": [],
   "source": []
  }
 ],
 "metadata": {
  "kernelspec": {
   "display_name": "Python 3 (ipykernel)",
   "language": "python",
   "name": "python3"
  },
  "language_info": {
   "codemirror_mode": {
    "name": "ipython",
    "version": 3
   },
   "file_extension": ".py",
   "mimetype": "text/x-python",
   "name": "python",
   "nbconvert_exporter": "python",
   "pygments_lexer": "ipython3",
   "version": "3.12.2"
  }
 },
 "nbformat": 4,
 "nbformat_minor": 5
}
