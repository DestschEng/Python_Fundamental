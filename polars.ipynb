{
 "cells": [
  {
   "cell_type": "code",
   "execution_count": 2,
   "id": "1ed476fa-4b79-4f86-8287-090d319e0b93",
   "metadata": {},
   "outputs": [
    {
     "data": {
      "text/html": [
       "<div><style>\n",
       ".dataframe > thead > tr,\n",
       ".dataframe > tbody > tr {\n",
       "  text-align: right;\n",
       "  white-space: pre-wrap;\n",
       "}\n",
       "</style>\n",
       "<small>shape: (5_000, 3)</small><table border=\"1\" class=\"dataframe\"><thead><tr><th>sqft</th><th>year</th><th>building_type</th></tr><tr><td>f64</td><td>i64</td><td>str</td></tr></thead><tbody><tr><td>707.529256</td><td>1977</td><td>&quot;C&quot;</td></tr><tr><td>1025.203348</td><td>2020</td><td>&quot;C&quot;</td></tr><tr><td>568.548657</td><td>2006</td><td>&quot;A&quot;</td></tr><tr><td>895.109864</td><td>1984</td><td>&quot;A&quot;</td></tr><tr><td>206.532754</td><td>2004</td><td>&quot;A&quot;</td></tr><tr><td>&hellip;</td><td>&hellip;</td><td>&hellip;</td></tr><tr><td>710.435755</td><td>1990</td><td>&quot;C&quot;</td></tr><tr><td>408.872783</td><td>2001</td><td>&quot;C&quot;</td></tr><tr><td>57.562059</td><td>2018</td><td>&quot;C&quot;</td></tr><tr><td>3728.088949</td><td>2020</td><td>&quot;C&quot;</td></tr><tr><td>686.678345</td><td>2005</td><td>&quot;C&quot;</td></tr></tbody></table></div>"
      ],
      "text/plain": [
       "shape: (5_000, 3)\n",
       "┌─────────────┬──────┬───────────────┐\n",
       "│ sqft        ┆ year ┆ building_type │\n",
       "│ ---         ┆ ---  ┆ ---           │\n",
       "│ f64         ┆ i64  ┆ str           │\n",
       "╞═════════════╪══════╪═══════════════╡\n",
       "│ 707.529256  ┆ 1977 ┆ C             │\n",
       "│ 1025.203348 ┆ 2020 ┆ C             │\n",
       "│ 568.548657  ┆ 2006 ┆ A             │\n",
       "│ 895.109864  ┆ 1984 ┆ A             │\n",
       "│ 206.532754  ┆ 2004 ┆ A             │\n",
       "│ …           ┆ …    ┆ …             │\n",
       "│ 710.435755  ┆ 1990 ┆ C             │\n",
       "│ 408.872783  ┆ 2001 ┆ C             │\n",
       "│ 57.562059   ┆ 2018 ┆ C             │\n",
       "│ 3728.088949 ┆ 2020 ┆ C             │\n",
       "│ 686.678345  ┆ 2005 ┆ C             │\n",
       "└─────────────┴──────┴───────────────┘"
      ]
     },
     "execution_count": 2,
     "metadata": {},
     "output_type": "execute_result"
    }
   ],
   "source": [
    "import numpy as np\n",
    "import polars as pl\n",
    "\n",
    "gen_row = 5000\n",
    "rng = np.random.default_rng(seed=7)\n",
    "\n",
    "building_data={\n",
    "    \"sqft\": rng.exponential(scale=1000, size = gen_row),\n",
    "    \"year\": rng.integers(low=1975, high=2025, size=gen_row),\n",
    "    \"building_type\": rng.choice(['A','B','C'], size=gen_row)\n",
    "}\n",
    "\n",
    "buildings = pl.DataFrame(building_data)\n",
    "buildings"
   ]
  },
  {
   "cell_type": "code",
   "execution_count": 4,
   "id": "10d7044f-41f5-48a7-83c8-8a581d032acf",
   "metadata": {},
   "outputs": [
    {
     "data": {
      "text/plain": [
       "Schema([('sqft', Float64), ('year', Int64), ('building_type', String)])"
      ]
     },
     "execution_count": 4,
     "metadata": {},
     "output_type": "execute_result"
    }
   ],
   "source": [
    "buildings.schema"
   ]
  },
  {
   "cell_type": "code",
   "execution_count": 5,
   "id": "fd85b138-af4b-4582-ac74-fa363ca44f54",
   "metadata": {},
   "outputs": [
    {
     "data": {
      "text/plain": [
       "<bound method DataFrame.head of shape: (5_000, 3)\n",
       "┌─────────────┬──────┬───────────────┐\n",
       "│ sqft        ┆ year ┆ building_type │\n",
       "│ ---         ┆ ---  ┆ ---           │\n",
       "│ f64         ┆ i64  ┆ str           │\n",
       "╞═════════════╪══════╪═══════════════╡\n",
       "│ 707.529256  ┆ 1977 ┆ C             │\n",
       "│ 1025.203348 ┆ 2020 ┆ C             │\n",
       "│ 568.548657  ┆ 2006 ┆ A             │\n",
       "│ 895.109864  ┆ 1984 ┆ A             │\n",
       "│ 206.532754  ┆ 2004 ┆ A             │\n",
       "│ …           ┆ …    ┆ …             │\n",
       "│ 710.435755  ┆ 1990 ┆ C             │\n",
       "│ 408.872783  ┆ 2001 ┆ C             │\n",
       "│ 57.562059   ┆ 2018 ┆ C             │\n",
       "│ 3728.088949 ┆ 2020 ┆ C             │\n",
       "│ 686.678345  ┆ 2005 ┆ C             │\n",
       "└─────────────┴──────┴───────────────┘>"
      ]
     },
     "execution_count": 5,
     "metadata": {},
     "output_type": "execute_result"
    }
   ],
   "source": [
    "buildings.head"
   ]
  },
  {
   "cell_type": "code",
   "execution_count": 6,
   "id": "21385553-e577-49a3-af9f-1b815f9e561e",
   "metadata": {},
   "outputs": [
    {
     "data": {
      "text/html": [
       "<div><style>\n",
       ".dataframe > thead > tr,\n",
       ".dataframe > tbody > tr {\n",
       "  text-align: right;\n",
       "  white-space: pre-wrap;\n",
       "}\n",
       "</style>\n",
       "<small>shape: (9, 4)</small><table border=\"1\" class=\"dataframe\"><thead><tr><th>statistic</th><th>sqft</th><th>year</th><th>building_type</th></tr><tr><td>str</td><td>f64</td><td>f64</td><td>str</td></tr></thead><tbody><tr><td>&quot;count&quot;</td><td>5000.0</td><td>5000.0</td><td>&quot;5000&quot;</td></tr><tr><td>&quot;null_count&quot;</td><td>0.0</td><td>0.0</td><td>&quot;0&quot;</td></tr><tr><td>&quot;mean&quot;</td><td>994.094456</td><td>1999.5488</td><td>null</td></tr><tr><td>&quot;std&quot;</td><td>1016.641569</td><td>14.39669</td><td>null</td></tr><tr><td>&quot;min&quot;</td><td>1.133256</td><td>1975.0</td><td>&quot;A&quot;</td></tr><tr><td>&quot;25%&quot;</td><td>286.807549</td><td>1987.0</td><td>null</td></tr><tr><td>&quot;50%&quot;</td><td>669.406964</td><td>2000.0</td><td>null</td></tr><tr><td>&quot;75%&quot;</td><td>1342.909782</td><td>2012.0</td><td>null</td></tr><tr><td>&quot;max&quot;</td><td>9307.793917</td><td>2024.0</td><td>&quot;C&quot;</td></tr></tbody></table></div>"
      ],
      "text/plain": [
       "shape: (9, 4)\n",
       "┌────────────┬─────────────┬───────────┬───────────────┐\n",
       "│ statistic  ┆ sqft        ┆ year      ┆ building_type │\n",
       "│ ---        ┆ ---         ┆ ---       ┆ ---           │\n",
       "│ str        ┆ f64         ┆ f64       ┆ str           │\n",
       "╞════════════╪═════════════╪═══════════╪═══════════════╡\n",
       "│ count      ┆ 5000.0      ┆ 5000.0    ┆ 5000          │\n",
       "│ null_count ┆ 0.0         ┆ 0.0       ┆ 0             │\n",
       "│ mean       ┆ 994.094456  ┆ 1999.5488 ┆ null          │\n",
       "│ std        ┆ 1016.641569 ┆ 14.39669  ┆ null          │\n",
       "│ min        ┆ 1.133256    ┆ 1975.0    ┆ A             │\n",
       "│ 25%        ┆ 286.807549  ┆ 1987.0    ┆ null          │\n",
       "│ 50%        ┆ 669.406964  ┆ 2000.0    ┆ null          │\n",
       "│ 75%        ┆ 1342.909782 ┆ 2012.0    ┆ null          │\n",
       "│ max        ┆ 9307.793917 ┆ 2024.0    ┆ C             │\n",
       "└────────────┴─────────────┴───────────┴───────────────┘"
      ]
     },
     "execution_count": 6,
     "metadata": {},
     "output_type": "execute_result"
    }
   ],
   "source": [
    "buildings.describe()"
   ]
  },
  {
   "cell_type": "code",
   "execution_count": 7,
   "id": "63a88547-12e1-47b1-a4cc-b4a73a5ed803",
   "metadata": {},
   "outputs": [
    {
     "data": {
      "text/html": [
       "<div><style>\n",
       ".dataframe > thead > tr,\n",
       ".dataframe > tbody > tr {\n",
       "  text-align: right;\n",
       "  white-space: pre-wrap;\n",
       "}\n",
       "</style>\n",
       "<small>shape: (5_000, 1)</small><table border=\"1\" class=\"dataframe\"><thead><tr><th>sqft</th></tr><tr><td>f64</td></tr></thead><tbody><tr><td>707.529256</td></tr><tr><td>1025.203348</td></tr><tr><td>568.548657</td></tr><tr><td>895.109864</td></tr><tr><td>206.532754</td></tr><tr><td>&hellip;</td></tr><tr><td>710.435755</td></tr><tr><td>408.872783</td></tr><tr><td>57.562059</td></tr><tr><td>3728.088949</td></tr><tr><td>686.678345</td></tr></tbody></table></div>"
      ],
      "text/plain": [
       "shape: (5_000, 1)\n",
       "┌─────────────┐\n",
       "│ sqft        │\n",
       "│ ---         │\n",
       "│ f64         │\n",
       "╞═════════════╡\n",
       "│ 707.529256  │\n",
       "│ 1025.203348 │\n",
       "│ 568.548657  │\n",
       "│ 895.109864  │\n",
       "│ 206.532754  │\n",
       "│ …           │\n",
       "│ 710.435755  │\n",
       "│ 408.872783  │\n",
       "│ 57.562059   │\n",
       "│ 3728.088949 │\n",
       "│ 686.678345  │\n",
       "└─────────────┘"
      ]
     },
     "execution_count": 7,
     "metadata": {},
     "output_type": "execute_result"
    }
   ],
   "source": [
    "buildings.select(\"sqft\")"
   ]
  },
  {
   "cell_type": "code",
   "execution_count": 9,
   "id": "c3efe77a-fadb-4ab9-a2f5-6e27822f9286",
   "metadata": {},
   "outputs": [
    {
     "data": {
      "text/html": [
       "<div><style>\n",
       ".dataframe > thead > tr,\n",
       ".dataframe > tbody > tr {\n",
       "  text-align: right;\n",
       "  white-space: pre-wrap;\n",
       "}\n",
       "</style>\n",
       "<small>shape: (5_000, 1)</small><table border=\"1\" class=\"dataframe\"><thead><tr><th>sqft</th></tr><tr><td>f64</td></tr></thead><tbody><tr><td>0.001133</td></tr><tr><td>0.001152</td></tr><tr><td>0.001429</td></tr><tr><td>0.001439</td></tr><tr><td>0.001505</td></tr><tr><td>&hellip;</td></tr><tr><td>6.931917</td></tr><tr><td>7.247539</td></tr><tr><td>7.629569</td></tr><tr><td>8.313942</td></tr><tr><td>9.307794</td></tr></tbody></table></div>"
      ],
      "text/plain": [
       "shape: (5_000, 1)\n",
       "┌──────────┐\n",
       "│ sqft     │\n",
       "│ ---      │\n",
       "│ f64      │\n",
       "╞══════════╡\n",
       "│ 0.001133 │\n",
       "│ 0.001152 │\n",
       "│ 0.001429 │\n",
       "│ 0.001439 │\n",
       "│ 0.001505 │\n",
       "│ …        │\n",
       "│ 6.931917 │\n",
       "│ 7.247539 │\n",
       "│ 7.629569 │\n",
       "│ 8.313942 │\n",
       "│ 9.307794 │\n",
       "└──────────┘"
      ]
     },
     "execution_count": 9,
     "metadata": {},
     "output_type": "execute_result"
    }
   ],
   "source": [
    "buildings.select(pl.col(\"sqft\").sort() / 1000)"
   ]
  },
  {
   "cell_type": "code",
   "execution_count": 14,
   "id": "8420b673-f815-419b-bf06-27d538f1458c",
   "metadata": {},
   "outputs": [
    {
     "data": {
      "text/plain": [
       "(2457, 3)"
      ]
     },
     "execution_count": 14,
     "metadata": {},
     "output_type": "execute_result"
    }
   ],
   "source": [
    "after_2000 = buildings.filter(pl.col(\"year\")>2000)\n",
    "after_2000.shape"
   ]
  },
  {
   "cell_type": "code",
   "execution_count": 16,
   "id": "c2066bdd-0a7b-4049-80b0-307cdd4445ac",
   "metadata": {},
   "outputs": [
    {
     "data": {
      "text/html": [
       "<div><style>\n",
       ".dataframe > thead > tr,\n",
       ".dataframe > tbody > tr {\n",
       "  text-align: right;\n",
       "  white-space: pre-wrap;\n",
       "}\n",
       "</style>\n",
       "<small>shape: (1, 1)</small><table border=\"1\" class=\"dataframe\"><thead><tr><th>year</th></tr><tr><td>i64</td></tr></thead><tbody><tr><td>2001</td></tr></tbody></table></div>"
      ],
      "text/plain": [
       "shape: (1, 1)\n",
       "┌──────┐\n",
       "│ year │\n",
       "│ ---  │\n",
       "│ i64  │\n",
       "╞══════╡\n",
       "│ 2001 │\n",
       "└──────┘"
      ]
     },
     "execution_count": 16,
     "metadata": {},
     "output_type": "execute_result"
    }
   ],
   "source": [
    "after_2000.select(pl.col('year').min())"
   ]
  },
  {
   "cell_type": "code",
   "execution_count": 21,
   "id": "42746a97-ed95-4e12-aeb9-a92dc97d986d",
   "metadata": {},
   "outputs": [],
   "source": [
    "# In this example, you first call buildings.groupby(\"building_type\"), \n",
    "# which creates a Polars GroupBy object. \n",
    "# The GroupBy object has an aggregation method, .agg(), \n",
    "# which accepts a list of expressions that are computed for each group. \n",
    "# For instance, pl.mean(\"sqft\") calculates the average square footage for each building type, \n",
    "# and pl.count() returns the number of buildings of each building type. \n",
    "# You use .alias() to name the aggregated columns.\n",
    "\n",
    "# While it’s not apparent with the high-level Python API, \n",
    "# all Polars expressions are optimized and run in parallel under the hood. \n",
    "# This means that Polars expressions don’t always run in the order you specify, \n",
    "# and they don’t necessarily run on a single core. \n",
    "# Instead, Polars optimizes the order in which expressions are evaluated in a query,\n",
    "# and the work is spread across available cores. \n",
    "# You’ll see examples of optimized queries later in this tutorial."
   ]
  },
  {
   "cell_type": "code",
   "execution_count": 23,
   "id": "9ebb7a04-91e2-47a7-a201-adae1ad69a93",
   "metadata": {},
   "outputs": [
    {
     "data": {
      "text/html": [
       "<div><style>\n",
       ".dataframe > thead > tr,\n",
       ".dataframe > tbody > tr {\n",
       "  text-align: right;\n",
       "  white-space: pre-wrap;\n",
       "}\n",
       "</style>\n",
       "<small>shape: (3, 4)</small><table border=\"1\" class=\"dataframe\"><thead><tr><th>building_type</th><th>mean_sqft</th><th>median_year</th><th>len</th></tr><tr><td>str</td><td>f64</td><td>f64</td><td>u32</td></tr></thead><tbody><tr><td>&quot;C&quot;</td><td>999.854722</td><td>2000.0</td><td>1692</td></tr><tr><td>&quot;B&quot;</td><td>992.754444</td><td>2000.0</td><td>1655</td></tr><tr><td>&quot;A&quot;</td><td>989.539918</td><td>2001.0</td><td>1653</td></tr></tbody></table></div>"
      ],
      "text/plain": [
       "shape: (3, 4)\n",
       "┌───────────────┬────────────┬─────────────┬──────┐\n",
       "│ building_type ┆ mean_sqft  ┆ median_year ┆ len  │\n",
       "│ ---           ┆ ---        ┆ ---         ┆ ---  │\n",
       "│ str           ┆ f64        ┆ f64         ┆ u32  │\n",
       "╞═══════════════╪════════════╪═════════════╪══════╡\n",
       "│ C             ┆ 999.854722 ┆ 2000.0      ┆ 1692 │\n",
       "│ B             ┆ 992.754444 ┆ 2000.0      ┆ 1655 │\n",
       "│ A             ┆ 989.539918 ┆ 2001.0      ┆ 1653 │\n",
       "└───────────────┴────────────┴─────────────┴──────┘"
      ]
     },
     "execution_count": 23,
     "metadata": {},
     "output_type": "execute_result"
    }
   ],
   "source": [
    "buildings.group_by(\"building_type\").agg(\n",
    "    [\n",
    "        pl.mean(\"sqft\").alias(\"mean_sqft\"),\n",
    "        pl.median(\"year\").alias(\"median_year\"),\n",
    "        pl.len()\n",
    "    ]\n",
    ")"
   ]
  },
  {
   "cell_type": "code",
   "execution_count": 52,
   "id": "341c25b2-c0cb-49e6-8a1a-28ab7aa1a107",
   "metadata": {},
   "outputs": [
    {
     "data": {
      "text/html": [
       "<i>naive plan: (run <b>LazyFrame.explain(optimized=True)</b> to see the optimized plan)</i>\n",
       "    <p></p>\n",
       "    <div>DF [\"sqft\", \"price\", \"year\", \"type\"]; PROJECT */4 COLUMNS; SELECTION: None</div>"
      ],
      "text/plain": [
       "<LazyFrame at 0x1ED4BEFCAD0>"
      ]
     },
     "execution_count": 52,
     "metadata": {},
     "output_type": "execute_result"
    }
   ],
   "source": [
    "import numpy as np\n",
    "import polars as pl\n",
    "\n",
    "gen_row = 5000\n",
    "rng = np.random.default_rng(seed = 7)\n",
    "building_data2 = {\n",
    "    \"sqft\":rng.exponential(scale= 1000, size = gen_row),\n",
    "    \"price\": rng.exponential(scale=100_000, size = gen_row),\n",
    "    \"year\": rng.integers(low=1975,high=2030,size= gen_row),\n",
    "    \"type\": rng.choice(['A','B','C','D','E'], size = gen_row)\n",
    "}\n",
    "bd = pl.LazyFrame(building_data2)\n",
    "bd"
   ]
  },
  {
   "cell_type": "code",
   "execution_count": 53,
   "id": "bec7ae70-a3b3-4a6f-ae55-0542c8901ae7",
   "metadata": {},
   "outputs": [
    {
     "data": {
      "text/html": [
       "<i>naive plan: (run <b>LazyFrame.explain(optimized=True)</b> to see the optimized plan)</i>\n",
       "    <p></p>\n",
       "    <div>FILTER [(col(\"price_per_sqft\")) > (100.0)] FROM<p></p>  FILTER [(col(\"year\")) < (2000)] FROM<p></p>     WITH_COLUMNS:<p></p>     [[(col(\"price\")) / (col(\"sqft\"))].alias(\"price_per_sqft\")] <p></p>      DF [\"sqft\", \"price\", \"year\", \"type\"]; PROJECT */4 COLUMNS; SELECTION: None</div>"
      ],
      "text/plain": [
       "<LazyFrame at 0x1ED4BF6A780>"
      ]
     },
     "execution_count": 53,
     "metadata": {},
     "output_type": "execute_result"
    }
   ],
   "source": [
    "lazyQuery = (\n",
    "    bd.with_columns(\n",
    "        (pl.col('price') / pl.col('sqft')).alias('price_per_sqft')\n",
    "                       )\n",
    "    .filter(\n",
    "        (pl.col('price_per_sqft')>100) & (pl.col('year')<2000)\n",
    "                       )\n",
    ")\n",
    "\n",
    "                           \n",
    "lazyQuery"
   ]
  },
  {
   "cell_type": "code",
   "execution_count": 59,
   "id": "b9ed025e-730d-4c5e-a80e-9853678fecc7",
   "metadata": {},
   "outputs": [
    {
     "name": "stdout",
     "output_type": "stream",
     "text": [
      "FILTER [(col(\"price_per_sqft\")) > (100.0)] FROM\n",
      "   WITH_COLUMNS:\n",
      "   [[(col(\"price\")) / (col(\"sqft\"))].alias(\"price_per_sqft\")] \n",
      "    DF [\"sqft\", \"price\", \"year\", \"type\"]; PROJECT */4 COLUMNS; SELECTION: [(col(\"year\")) < (2000)]\n"
     ]
    }
   ],
   "source": [
    "print(lazyQuery.explain())"
   ]
  },
  {
   "cell_type": "code",
   "execution_count": 62,
   "id": "44ab6070-d848-46a4-b9e7-fb178933311d",
   "metadata": {},
   "outputs": [
    {
     "data": {
      "text/html": [
       "<div><style>\n",
       ".dataframe > thead > tr,\n",
       ".dataframe > tbody > tr {\n",
       "  text-align: right;\n",
       "  white-space: pre-wrap;\n",
       "}\n",
       "</style>\n",
       "<small>shape: (9, 3)</small><table border=\"1\" class=\"dataframe\"><thead><tr><th>statistic</th><th>price_per_sqft</th><th>year</th></tr><tr><td>str</td><td>f64</td><td>f64</td></tr></thead><tbody><tr><td>&quot;count&quot;</td><td>1126.0</td><td>1126.0</td></tr><tr><td>&quot;null_count&quot;</td><td>0.0</td><td>0.0</td></tr><tr><td>&quot;mean&quot;</td><td>1222.929776</td><td>1987.082593</td></tr><tr><td>&quot;std&quot;</td><td>5024.841734</td><td>7.270599</td></tr><tr><td>&quot;min&quot;</td><td>100.072032</td><td>1975.0</td></tr><tr><td>&quot;25%&quot;</td><td>166.103508</td><td>1981.0</td></tr><tr><td>&quot;50%&quot;</td><td>294.024197</td><td>1987.0</td></tr><tr><td>&quot;75%&quot;</td><td>715.72476</td><td>1994.0</td></tr><tr><td>&quot;max&quot;</td><td>90314.966163</td><td>1999.0</td></tr></tbody></table></div>"
      ],
      "text/plain": [
       "shape: (9, 3)\n",
       "┌────────────┬────────────────┬─────────────┐\n",
       "│ statistic  ┆ price_per_sqft ┆ year        │\n",
       "│ ---        ┆ ---            ┆ ---         │\n",
       "│ str        ┆ f64            ┆ f64         │\n",
       "╞════════════╪════════════════╪═════════════╡\n",
       "│ count      ┆ 1126.0         ┆ 1126.0      │\n",
       "│ null_count ┆ 0.0            ┆ 0.0         │\n",
       "│ mean       ┆ 1222.929776    ┆ 1987.082593 │\n",
       "│ std        ┆ 5024.841734    ┆ 7.270599    │\n",
       "│ min        ┆ 100.072032     ┆ 1975.0      │\n",
       "│ 25%        ┆ 166.103508     ┆ 1981.0      │\n",
       "│ 50%        ┆ 294.024197     ┆ 1987.0      │\n",
       "│ 75%        ┆ 715.72476      ┆ 1994.0      │\n",
       "│ max        ┆ 90314.966163   ┆ 1999.0      │\n",
       "└────────────┴────────────────┴─────────────┘"
      ]
     },
     "execution_count": 62,
     "metadata": {},
     "output_type": "execute_result"
    }
   ],
   "source": [
    " (\n",
    "     lazyQuery\n",
    "     .collect()\n",
    "     .select(pl.col([\"price_per_sqft\", \"year\"]))\n",
    "     .describe()\n",
    " )"
   ]
  },
  {
   "cell_type": "code",
   "execution_count": 63,
   "id": "629a9c16-a783-49f2-b028-ec074efc201b",
   "metadata": {},
   "outputs": [],
   "source": [
    "import requests\n",
    "import pathlib\n",
    "\n",
    "def download_file(file_url: str, local_file_path: pathlib.Path) -> None:\n",
    "    \"\"\"Download a file and save it with the specified file name.\"\"\"\n",
    "    response = requests.get(file_url)\n",
    "    if response:\n",
    "        local_file_path.write_bytes(response.content)\n",
    "        print(f\"File successfully downloaded and stored at: {local_file_path}\")\n",
    "    else:\n",
    "        raise requests.exceptions.RequestException(\n",
    "            f\"Failed to download the file. Status code: {response.status_code}\"\n",
    "        )"
   ]
  },
  {
   "cell_type": "code",
   "execution_count": 64,
   "id": "eace561c-eb2e-45d0-b6c9-02a5ecbdfc40",
   "metadata": {},
   "outputs": [
    {
     "name": "stdout",
     "output_type": "stream",
     "text": [
      "File successfully downloaded and stored at: electric_cars.csv\n"
     ]
    }
   ],
   "source": [
    "url = \"https://data.wa.gov/api/views/f6w7-q2d2/rows.csv?accessType=DOWNLOAD\"\n",
    "local_file_path = pathlib.Path(\"electric_cars.csv\")\n",
    "\n",
    "download_file(url, local_file_path)"
   ]
  },
  {
   "cell_type": "code",
   "execution_count": 66,
   "id": "aa7463a2-3e92-4b10-b387-9a32e195c8e2",
   "metadata": {},
   "outputs": [
    {
     "name": "stderr",
     "output_type": "stream",
     "text": [
      "C:\\Users\\Admin\\AppData\\Local\\Temp\\ipykernel_4632\\3716273341.py:2: PerformanceWarning: Resolving the schema of a LazyFrame is a potentially expensive operation. Use `LazyFrame.collect_schema()` to get the schema without this warning.\n",
      "  lazy_car_data.schema\n"
     ]
    },
    {
     "data": {
      "text/plain": [
       "Schema([('VIN (1-10)', String),\n",
       "        ('County', String),\n",
       "        ('City', String),\n",
       "        ('State', String),\n",
       "        ('Postal Code', Int64),\n",
       "        ('Model Year', Int64),\n",
       "        ('Make', String),\n",
       "        ('Model', String),\n",
       "        ('Electric Vehicle Type', String),\n",
       "        ('Clean Alternative Fuel Vehicle (CAFV) Eligibility', String),\n",
       "        ('Electric Range', Int64),\n",
       "        ('Base MSRP', Int64),\n",
       "        ('Legislative District', Int64),\n",
       "        ('DOL Vehicle ID', Int64),\n",
       "        ('Vehicle Location', String),\n",
       "        ('Electric Utility', String),\n",
       "        ('2020 Census Tract', Int64)])"
      ]
     },
     "execution_count": 66,
     "metadata": {},
     "output_type": "execute_result"
    }
   ],
   "source": [
    "lazy_car_data = pl.scan_csv(local_file_path)\n",
    "lazy_car_data.schema"
   ]
  },
  {
   "cell_type": "code",
   "execution_count": null,
   "id": "b79804f9-5cad-4c6d-88ea-5f735d582273",
   "metadata": {},
   "outputs": [],
   "source": [
    ">>> lazy_car_query = (\n",
    "...     lazy_car_data\n",
    "...     .filter((pl.col(\"Model Year\") >= 2018))\n",
    "...     .filter(\n",
    "...         pl.col(\"Electric Vehicle Type\") == \"Battery Electric Vehicle (BEV)\"\n",
    "...     )\n",
    "...     .groupby([\"State\", \"Make\"])\n",
    "...     .agg(\n",
    "...         pl.mean(\"Electric Range\").alias(\"Average Electric Range\"),\n",
    "...         pl.min(\"Model Year\").alias(\"Oldest Model Year\"),\n",
    "...         pl.count().alias(\"Number of Cars\"),\n",
    "...     )\n",
    "...     .filter(pl.col(\"Average Electric Range\") > 0)\n",
    "...     .filter(pl.col(\"Number of Cars\") > 5)\n",
    "...     .sort(pl.col(\"Number of Cars\"), descending=True)\n",
    "... )\n",
    "\n",
    ">>> lazy_car_query.collect()\n",
    "shape: (20, 5)\n",
    "┌───────┬───────────┬────────────────────────┬───────────────────┬────────────────┐\n",
    "│ State ┆ Make      ┆ Average Electric Range ┆ Oldest Model Year ┆ Number of Cars │\n",
    "│ ---   ┆ ---       ┆ ---                    ┆ ---               ┆ ---            │\n",
    "│ str   ┆ str       ┆ f64                    ┆ i64               ┆ u32            │\n",
    "╞═══════╪═══════════╪════════════════════════╪═══════════════════╪════════════════╡\n",
    "│ WA    ┆ TESLA     ┆ 89.114509              ┆ 2018              ┆ 55690          │\n",
    "│ WA    ┆ NISSAN    ┆ 93.115056              ┆ 2018              ┆ 5267           │\n",
    "│ WA    ┆ CHEVROLET ┆ 111.746651             ┆ 2018              ┆ 5001           │\n",
    "│ WA    ┆ KIA       ┆ 65.380428              ┆ 2018              ┆ 3178           │\n",
    "│ …     ┆ …         ┆ …                      ┆ …                 ┆ …              │\n",
    "│ VA    ┆ TESLA     ┆ 139.133333             ┆ 2018              ┆ 15             │\n",
    "│ MD    ┆ TESLA     ┆ 50.6                   ┆ 2018              ┆ 10             │\n",
    "│ TX    ┆ TESLA     ┆ 94.625                 ┆ 2018              ┆ 8              │\n",
    "│ NC    ┆ TESLA     ┆ 61.428571              ┆ 2018              ┆ 7              │\n",
    "└───────┴───────────┴────────────────────────┴───────────────────┴────────────────┘"
   ]
  },
  {
   "cell_type": "code",
   "execution_count": 67,
   "id": "5c1b40c2-9cdc-44bf-be72-ccced6f5aea5",
   "metadata": {},
   "outputs": [
    {
     "data": {
      "text/html": [
       "<div><style>\n",
       ".dataframe > thead > tr,\n",
       ".dataframe > tbody > tr {\n",
       "  text-align: right;\n",
       "  white-space: pre-wrap;\n",
       "}\n",
       "</style>\n",
       "<small>shape: (200_048, 17)</small><table border=\"1\" class=\"dataframe\"><thead><tr><th>VIN (1-10)</th><th>County</th><th>City</th><th>State</th><th>Postal Code</th><th>Model Year</th><th>Make</th><th>Model</th><th>Electric Vehicle Type</th><th>Clean Alternative Fuel Vehicle (CAFV) Eligibility</th><th>Electric Range</th><th>Base MSRP</th><th>Legislative District</th><th>DOL Vehicle ID</th><th>Vehicle Location</th><th>Electric Utility</th><th>2020 Census Tract</th></tr><tr><td>str</td><td>str</td><td>str</td><td>str</td><td>i64</td><td>i64</td><td>str</td><td>str</td><td>str</td><td>str</td><td>i64</td><td>i64</td><td>i64</td><td>i64</td><td>str</td><td>str</td><td>i64</td></tr></thead><tbody><tr><td>&quot;5YJ3E1EB0J&quot;</td><td>&quot;Thurston&quot;</td><td>&quot;Olympia&quot;</td><td>&quot;WA&quot;</td><td>98512</td><td>2018</td><td>&quot;TESLA&quot;</td><td>&quot;MODEL 3&quot;</td><td>&quot;Battery Electric Vehicle (BEV)&quot;</td><td>&quot;Clean Alternative Fuel Vehicle…</td><td>215</td><td>0</td><td>35</td><td>104823078</td><td>&quot;POINT (-122.957046 46.991391)&quot;</td><td>&quot;PUGET SOUND ENERGY INC&quot;</td><td>53067012730</td></tr><tr><td>&quot;WA1AAAGE9M&quot;</td><td>&quot;Kitsap&quot;</td><td>&quot;Port Orchard&quot;</td><td>&quot;WA&quot;</td><td>98367</td><td>2021</td><td>&quot;AUDI&quot;</td><td>&quot;E-TRON&quot;</td><td>&quot;Battery Electric Vehicle (BEV)&quot;</td><td>&quot;Clean Alternative Fuel Vehicle…</td><td>222</td><td>0</td><td>35</td><td>156660507</td><td>&quot;POINT (-122.6530052 47.4739066…</td><td>&quot;PUGET SOUND ENERGY INC&quot;</td><td>53035092901</td></tr><tr><td>&quot;5YJ3E1EA2J&quot;</td><td>&quot;Yakima&quot;</td><td>&quot;Yakima&quot;</td><td>&quot;WA&quot;</td><td>98902</td><td>2018</td><td>&quot;TESLA&quot;</td><td>&quot;MODEL 3&quot;</td><td>&quot;Battery Electric Vehicle (BEV)&quot;</td><td>&quot;Clean Alternative Fuel Vehicle…</td><td>215</td><td>0</td><td>14</td><td>269374108</td><td>&quot;POINT (-120.530331 46.59534)&quot;</td><td>&quot;PACIFICORP&quot;</td><td>53077000500</td></tr><tr><td>&quot;5YJ3E1EA4N&quot;</td><td>&quot;Yakima&quot;</td><td>&quot;Yakima&quot;</td><td>&quot;WA&quot;</td><td>98902</td><td>2022</td><td>&quot;TESLA&quot;</td><td>&quot;MODEL 3&quot;</td><td>&quot;Battery Electric Vehicle (BEV)&quot;</td><td>&quot;Eligibility unknown as battery…</td><td>0</td><td>0</td><td>15</td><td>213383894</td><td>&quot;POINT (-120.530331 46.59534)&quot;</td><td>&quot;PACIFICORP&quot;</td><td>53077001202</td></tr><tr><td>&quot;7SAYGAEE2P&quot;</td><td>&quot;Snohomish&quot;</td><td>&quot;Bothell&quot;</td><td>&quot;WA&quot;</td><td>98012</td><td>2023</td><td>&quot;TESLA&quot;</td><td>&quot;MODEL Y&quot;</td><td>&quot;Battery Electric Vehicle (BEV)&quot;</td><td>&quot;Eligibility unknown as battery…</td><td>0</td><td>0</td><td>1</td><td>229496046</td><td>&quot;POINT (-122.206146 47.839957)&quot;</td><td>&quot;PUGET SOUND ENERGY INC&quot;</td><td>53061052009</td></tr><tr><td>&hellip;</td><td>&hellip;</td><td>&hellip;</td><td>&hellip;</td><td>&hellip;</td><td>&hellip;</td><td>&hellip;</td><td>&hellip;</td><td>&hellip;</td><td>&hellip;</td><td>&hellip;</td><td>&hellip;</td><td>&hellip;</td><td>&hellip;</td><td>&hellip;</td><td>&hellip;</td><td>&hellip;</td></tr><tr><td>&quot;JTMAB3FVXR&quot;</td><td>&quot;Snohomish&quot;</td><td>&quot;Snohomish&quot;</td><td>&quot;WA&quot;</td><td>98290</td><td>2024</td><td>&quot;TOYOTA&quot;</td><td>&quot;RAV4 PRIME&quot;</td><td>&quot;Plug-in Hybrid Electric Vehicl…</td><td>&quot;Clean Alternative Fuel Vehicle…</td><td>42</td><td>0</td><td>44</td><td>262809249</td><td>&quot;POINT (-122.0483457 47.9435765…</td><td>&quot;PUGET SOUND ENERGY INC&quot;</td><td>53061052402</td></tr><tr><td>&quot;7FCTGAAA7P&quot;</td><td>&quot;Pierce&quot;</td><td>&quot;Orting&quot;</td><td>&quot;WA&quot;</td><td>98360</td><td>2023</td><td>&quot;RIVIAN&quot;</td><td>&quot;R1T&quot;</td><td>&quot;Battery Electric Vehicle (BEV)&quot;</td><td>&quot;Eligibility unknown as battery…</td><td>0</td><td>0</td><td>2</td><td>252195450</td><td>&quot;POINT (-122.197791 47.0948565)&quot;</td><td>&quot;PUGET SOUND ENERGY INC||CITY O…</td><td>53053070100</td></tr><tr><td>&quot;1V2GNPE87P&quot;</td><td>&quot;Spokane&quot;</td><td>&quot;Spokane&quot;</td><td>&quot;WA&quot;</td><td>99201</td><td>2023</td><td>&quot;VOLKSWAGEN&quot;</td><td>&quot;ID.4&quot;</td><td>&quot;Battery Electric Vehicle (BEV)&quot;</td><td>&quot;Eligibility unknown as battery…</td><td>0</td><td>0</td><td>3</td><td>227314790</td><td>&quot;POINT (-117.428902 47.658268)&quot;</td><td>&quot;MODERN ELECTRIC WATER COMPANY&quot;</td><td>53063002300</td></tr><tr><td>&quot;1G1RD6E42E&quot;</td><td>&quot;Snohomish&quot;</td><td>&quot;Mountlake Terrace&quot;</td><td>&quot;WA&quot;</td><td>98043</td><td>2014</td><td>&quot;CHEVROLET&quot;</td><td>&quot;VOLT&quot;</td><td>&quot;Plug-in Hybrid Electric Vehicl…</td><td>&quot;Clean Alternative Fuel Vehicle…</td><td>38</td><td>0</td><td>32</td><td>170747377</td><td>&quot;POINT (-122.306706 47.792043)&quot;</td><td>&quot;PUGET SOUND ENERGY INC&quot;</td><td>53061051000</td></tr><tr><td>&quot;5YJ3E1EAXP&quot;</td><td>&quot;Kitsap&quot;</td><td>&quot;Bremerton&quot;</td><td>&quot;WA&quot;</td><td>98311</td><td>2023</td><td>&quot;TESLA&quot;</td><td>&quot;MODEL 3&quot;</td><td>&quot;Battery Electric Vehicle (BEV)&quot;</td><td>&quot;Eligibility unknown as battery…</td><td>0</td><td>0</td><td>23</td><td>224663134</td><td>&quot;POINT (-122.636245 47.62806)&quot;</td><td>&quot;PUGET SOUND ENERGY INC&quot;</td><td>53035091600</td></tr></tbody></table></div>"
      ],
      "text/plain": [
       "shape: (200_048, 17)\n",
       "┌────────────┬───────────┬───────────────────┬───────┬───┬────────────────┬─────────────────────────────────┬─────────────────────────────────┬───────────────────┐\n",
       "│ VIN (1-10) ┆ County    ┆ City              ┆ State ┆ … ┆ DOL Vehicle ID ┆ Vehicle Location                ┆ Electric Utility                ┆ 2020 Census Tract │\n",
       "│ ---        ┆ ---       ┆ ---               ┆ ---   ┆   ┆ ---            ┆ ---                             ┆ ---                             ┆ ---               │\n",
       "│ str        ┆ str       ┆ str               ┆ str   ┆   ┆ i64            ┆ str                             ┆ str                             ┆ i64               │\n",
       "╞════════════╪═══════════╪═══════════════════╪═══════╪═══╪════════════════╪═════════════════════════════════╪═════════════════════════════════╪═══════════════════╡\n",
       "│ 5YJ3E1EB0J ┆ Thurston  ┆ Olympia           ┆ WA    ┆ … ┆ 104823078      ┆ POINT (-122.957046 46.991391)   ┆ PUGET SOUND ENERGY INC          ┆ 53067012730       │\n",
       "│ WA1AAAGE9M ┆ Kitsap    ┆ Port Orchard      ┆ WA    ┆ … ┆ 156660507      ┆ POINT (-122.6530052 47.4739066… ┆ PUGET SOUND ENERGY INC          ┆ 53035092901       │\n",
       "│ 5YJ3E1EA2J ┆ Yakima    ┆ Yakima            ┆ WA    ┆ … ┆ 269374108      ┆ POINT (-120.530331 46.59534)    ┆ PACIFICORP                      ┆ 53077000500       │\n",
       "│ 5YJ3E1EA4N ┆ Yakima    ┆ Yakima            ┆ WA    ┆ … ┆ 213383894      ┆ POINT (-120.530331 46.59534)    ┆ PACIFICORP                      ┆ 53077001202       │\n",
       "│ 7SAYGAEE2P ┆ Snohomish ┆ Bothell           ┆ WA    ┆ … ┆ 229496046      ┆ POINT (-122.206146 47.839957)   ┆ PUGET SOUND ENERGY INC          ┆ 53061052009       │\n",
       "│ …          ┆ …         ┆ …                 ┆ …     ┆ … ┆ …              ┆ …                               ┆ …                               ┆ …                 │\n",
       "│ JTMAB3FVXR ┆ Snohomish ┆ Snohomish         ┆ WA    ┆ … ┆ 262809249      ┆ POINT (-122.0483457 47.9435765… ┆ PUGET SOUND ENERGY INC          ┆ 53061052402       │\n",
       "│ 7FCTGAAA7P ┆ Pierce    ┆ Orting            ┆ WA    ┆ … ┆ 252195450      ┆ POINT (-122.197791 47.0948565)  ┆ PUGET SOUND ENERGY INC||CITY O… ┆ 53053070100       │\n",
       "│ 1V2GNPE87P ┆ Spokane   ┆ Spokane           ┆ WA    ┆ … ┆ 227314790      ┆ POINT (-117.428902 47.658268)   ┆ MODERN ELECTRIC WATER COMPANY   ┆ 53063002300       │\n",
       "│ 1G1RD6E42E ┆ Snohomish ┆ Mountlake Terrace ┆ WA    ┆ … ┆ 170747377      ┆ POINT (-122.306706 47.792043)   ┆ PUGET SOUND ENERGY INC          ┆ 53061051000       │\n",
       "│ 5YJ3E1EAXP ┆ Kitsap    ┆ Bremerton         ┆ WA    ┆ … ┆ 224663134      ┆ POINT (-122.636245 47.62806)    ┆ PUGET SOUND ENERGY INC          ┆ 53035091600       │\n",
       "└────────────┴───────────┴───────────────────┴───────┴───┴────────────────┴─────────────────────────────────┴─────────────────────────────────┴───────────────────┘"
      ]
     },
     "execution_count": 67,
     "metadata": {},
     "output_type": "execute_result"
    }
   ],
   "source": [
    "lazy_car_data.collect()"
   ]
  },
  {
   "cell_type": "code",
   "execution_count": null,
   "id": "3a08977d-ab98-44ac-bf49-9bd599148db1",
   "metadata": {},
   "outputs": [],
   "source": []
  }
 ],
 "metadata": {
  "kernelspec": {
   "display_name": "Python 3 (ipykernel)",
   "language": "python",
   "name": "python3"
  },
  "language_info": {
   "codemirror_mode": {
    "name": "ipython",
    "version": 3
   },
   "file_extension": ".py",
   "mimetype": "text/x-python",
   "name": "python",
   "nbconvert_exporter": "python",
   "pygments_lexer": "ipython3",
   "version": "3.12.2"
  }
 },
 "nbformat": 4,
 "nbformat_minor": 5
}
